{
 "cells": [
  {
   "cell_type": "code",
   "execution_count": 13,
   "metadata": {},
   "outputs": [],
   "source": [
    "import pandas as pd\n",
    "df=pd.read_csv(r'C:\\Users\\ANSHUL\\Desktop\\MCA Sem 2 Syllabus\\Python\\Covid.csv')"
   ]
  },
  {
   "cell_type": "code",
   "execution_count": 4,
   "metadata": {},
   "outputs": [
    {
     "name": "stdout",
     "output_type": "stream",
     "text": [
      "        id government_id diagnosed_date  age gender             detected_city  \\\n",
      "0        0      KL-TS-P1     30/01/2020   20      F                  Thrissur   \n",
      "1        1      KL-AL-P1     02/02/2020  NaN    NaN                 Alappuzha   \n",
      "2        2      KL-KS-P1     03/02/2020  NaN    NaN                 Kasaragod   \n",
      "3        3         DL-P1     02/03/2020   45      M  East Delhi (Mayur Vihar)   \n",
      "4        4         TS-P1     02/03/2020   24      M                 Hyderabad   \n",
      "...    ...           ...            ...  ...    ...                       ...   \n",
      "1299  1299           NaN     29/03/2020  NaN    NaN                       NaN   \n",
      "1300  1300           NaN     29/03/2020  NaN    NaN                       NaN   \n",
      "1301  1301           NaN     29/03/2020  NaN    NaN                       NaN   \n",
      "1302  1302           NaN     29/03/2020  NaN    NaN                       NaN   \n",
      "1303  1303           NaN     29/03/2020  NaN    NaN                       NaN   \n",
      "\n",
      "     detected_district detected_state nationality current_status  \\\n",
      "0             Thrissur         Kerala       India      Recovered   \n",
      "1            Alappuzha         Kerala       India      Recovered   \n",
      "2            Kasaragod         Kerala       India      Recovered   \n",
      "3           East Delhi          Delhi       India      Recovered   \n",
      "4            Hyderabad      Telangana       India      Recovered   \n",
      "...                ...            ...         ...            ...   \n",
      "1299               NaN            NaN         NaN            NaN   \n",
      "1300               NaN            NaN         NaN            NaN   \n",
      "1301               NaN            NaN         NaN            NaN   \n",
      "1302               NaN            NaN         NaN            NaN   \n",
      "1303               NaN            NaN         NaN            NaN   \n",
      "\n",
      "     status_change_date                          notes  \n",
      "0            14/02/2020           Travelled from Wuhan  \n",
      "1            14/02/2020           Travelled from Wuhan  \n",
      "2            14/02/2020           Travelled from Wuhan  \n",
      "3            15/03/2020  Travelled from Austria, Italy  \n",
      "4            02/03/2020                            NaN  \n",
      "...                 ...                            ...  \n",
      "1299                NaN                            NaN  \n",
      "1300                NaN                            NaN  \n",
      "1301                NaN                            NaN  \n",
      "1302                NaN                            NaN  \n",
      "1303                NaN                            NaN  \n",
      "\n",
      "[1304 rows x 12 columns]\n"
     ]
    }
   ],
   "source": [
    "print(df)\n",
    "col=df['notes']"
   ]
  },
  {
   "cell_type": "code",
   "execution_count": 4,
   "metadata": {},
   "outputs": [
    {
     "name": "stdout",
     "output_type": "stream",
     "text": [
      "0                Travelled from Wuhan\n",
      "1                Travelled from Wuhan\n",
      "2                Travelled from Wuhan\n",
      "3       Travelled from Austria, Italy\n",
      "4                                 NaN\n",
      "                    ...              \n",
      "1299                              NaN\n",
      "1300                              NaN\n",
      "1301                              NaN\n",
      "1302                              NaN\n",
      "1303                              NaN\n",
      "Name: notes, Length: 1304, dtype: object\n"
     ]
    }
   ],
   "source": [
    "print(col)"
   ]
  },
  {
   "cell_type": "code",
   "execution_count": 7,
   "metadata": {},
   "outputs": [],
   "source": [
    "count=df['notes'].value_counts()"
   ]
  },
  {
   "cell_type": "code",
   "execution_count": 8,
   "metadata": {},
   "outputs": [
    {
     "name": "stdout",
     "output_type": "stream",
     "text": [
      "Details awaited                                             215\n",
      "Travelled from Dubai                                         55\n",
      "Details Awaited                                              48\n",
      "Travelled from Dubai, UAE                                    25\n",
      "Travelled from UK                                            24\n",
      "                                                           ... \n",
      "Wife of P153                                                  1\n",
      "Travelled from Dubai Emirates EK 566 landed at Bengaluru      1\n",
      "Factory Manager contact with businessman from Italy           1\n",
      "Travelled from Abu Dhabi, EY 250                              1\n",
      "No history of travelling abroad or outside the state.         1\n",
      "Name: notes, Length: 470, dtype: int64\n"
     ]
    }
   ],
   "source": [
    "print(count)\n",
    "import matplotlib.pyplot as plt"
   ]
  },
  {
   "cell_type": "code",
   "execution_count": 9,
   "metadata": {},
   "outputs": [
    {
     "data": {
      "image/png": "[encoded data removed]",
      "text/plain": [
       "<Figure size 432x288 with 1 Axes>"
      ]
     },
     "metadata": {
      "needs_background": "light"
     },
     "output_type": "display_data"
    }
   ],
   "source": [
    "count.hist()\n",
    "plt.show()"
   ]
  },
  {
   "cell_type": "code",
   "execution_count": 9,
   "metadata": {},
   "outputs": [
    {
     "data": {
      "image/png": "[encoded data removed]",
      "text/plain": [
       "<Figure size 432x288 with 1 Axes>"
      ]
     },
     "metadata": {
      "needs_background": "light"
     },
     "output_type": "display_data"
    }
   ],
   "source": [
    "df.plot('notes')\n",
    "plt.show()"
   ]
  },
  {
   "cell_type": "code",
   "execution_count": 14,
   "metadata": {},
   "outputs": [
    {
     "data": {
      "text/html": [
       "<div>\n",
       "<style scoped>\n",
       "    .dataframe tbody tr th:only-of-type {\n",
       "        vertical-align: middle;\n",
       "    }\n",
       "\n",
       "    .dataframe tbody tr th {\n",
       "        vertical-align: top;\n",
       "    }\n",
       "\n",
       "    .dataframe thead th {\n",
       "        text-align: right;\n",
       "    }\n",
       "</style>\n",
       "<table border=\"1\" class=\"dataframe\">\n",
       "  <thead>\n",
       "    <tr style=\"text-align: right;\">\n",
       "      <th></th>\n",
       "      <th>id</th>\n",
       "    </tr>\n",
       "  </thead>\n",
       "  <tbody>\n",
       "    <tr>\n",
       "      <td>count</td>\n",
       "      <td>1304.000000</td>\n",
       "    </tr>\n",
       "    <tr>\n",
       "      <td>mean</td>\n",
       "      <td>651.500000</td>\n",
       "    </tr>\n",
       "    <tr>\n",
       "      <td>std</td>\n",
       "      <td>376.576685</td>\n",
       "    </tr>\n",
       "    <tr>\n",
       "      <td>min</td>\n",
       "      <td>0.000000</td>\n",
       "    </tr>\n",
       "    <tr>\n",
       "      <td>25%</td>\n",
       "      <td>325.750000</td>\n",
       "    </tr>\n",
       "    <tr>\n",
       "      <td>50%</td>\n",
       "      <td>651.500000</td>\n",
       "    </tr>\n",
       "    <tr>\n",
       "      <td>75%</td>\n",
       "      <td>977.250000</td>\n",
       "    </tr>\n",
       "    <tr>\n",
       "      <td>max</td>\n",
       "      <td>1303.000000</td>\n",
       "    </tr>\n",
       "  </tbody>\n",
       "</table>\n",
       "</div>"
      ],
      "text/plain": [
       "                id\n",
       "count  1304.000000\n",
       "mean    651.500000\n",
       "std     376.576685\n",
       "min       0.000000\n",
       "25%     325.750000\n",
       "50%     651.500000\n",
       "75%     977.250000\n",
       "max    1303.000000"
      ]
     },
     "execution_count": 14,
     "metadata": {},
     "output_type": "execute_result"
    }
   ],
   "source": [
    "df.describe()"
   ]
  },
  {
   "cell_type": "code",
   "execution_count": 17,
   "metadata": {},
   "outputs": [
    {
     "data": {
      "text/plain": [
       "id                     int64\n",
       "government_id         object\n",
       "diagnosed_date        object\n",
       "age                   object\n",
       "gender                object\n",
       "detected_city         object\n",
       "detected_district     object\n",
       "detected_state        object\n",
       "nationality           object\n",
       "current_status        object\n",
       "status_change_date    object\n",
       "notes                 object\n",
       "dtype: object"
      ]
     },
     "execution_count": 17,
     "metadata": {},
     "output_type": "execute_result"
    }
   ],
   "source": [
    "df.dtypes"
   ]
  },
  {
   "cell_type": "code",
   "execution_count": null,
   "metadata": {},
   "outputs": [],
   "source": []
  },
  {
   "cell_type": "code",
   "execution_count": null,
   "metadata": {},
   "outputs": [],
   "source": []
  }
 ],
 "metadata": {
  "kernelspec": {
   "display_name": "Python 3",
   "language": "python",
   "name": "python3"
  },
  "language_info": {
   "codemirror_mode": {
    "name": "ipython",
    "version": 3
   },
   "file_extension": ".py",
   "mimetype": "text/x-python",
   "name": "python",
   "nbconvert_exporter": "python",
   "pygments_lexer": "ipython3",
   "version": "3.7.4"
  }
 },
 "nbformat": 4,
 "nbformat_minor": 2
}
